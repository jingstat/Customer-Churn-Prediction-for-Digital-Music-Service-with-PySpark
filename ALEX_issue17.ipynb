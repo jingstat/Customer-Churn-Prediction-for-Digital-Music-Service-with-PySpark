{
  "nbformat": 4,
  "nbformat_minor": 0,
  "metadata": {
    "kernelspec": {
      "display_name": "Python 3",
      "language": "python",
      "name": "python3"
    },
    "language_info": {
      "codemirror_mode": {
        "name": "ipython",
        "version": 3
      },
      "file_extension": ".py",
      "mimetype": "text/x-python",
      "name": "python",
      "nbconvert_exporter": "python",
      "pygments_lexer": "ipython3",
      "version": "3.6.5"
    },
    "colab": {
      "name": "ALEX_issue17.ipynb",
      "provenance": [],
      "include_colab_link": true
    }
  },
  "cells": [
    {
      "cell_type": "markdown",
      "metadata": {
        "id": "view-in-github",
        "colab_type": "text"
      },
      "source": [
        "<a href=\"https://colab.research.google.com/github/jingstat/Customer-Churn-Prediction-for-Digital-Music-Service-with-PySpark/blob/main/ALEX_issue17.ipynb\" target=\"_parent\"><img src=\"https://colab.research.google.com/assets/colab-badge.svg\" alt=\"Open In Colab\"/></a>"
      ]
    },
    {
      "cell_type": "markdown",
      "metadata": {
        "id": "FjEt4aK8f2lm"
      },
      "source": [
        "# Extend the concentrated liquity  \n",
        "Invariance function for Balencor $\\eqref{eq:inv_fun}$\n",
        "\n",
        "\n",
        "\\begin{equation}\n",
        " B_x^{w_x} B_y^{w_y} = L \n",
        "\\label{eq:inv_fun} \\tag{1} \n",
        "\\end{equation}\n",
        "\n",
        "\n",
        "Define $A_i$ and $A_o$ as the amount of tokens i and o exchanged, when a user sends token i to get tokens o.  \n",
        "\n",
        "Out-Given-in: \n",
        "\n",
        "$$ A_o = B_o (1- (\\frac{B_i}{B_i+A_i}))^\\frac{w_i}{w_o}$$\n",
        "\n",
        "In-Given-Out: \n",
        "\n",
        "$$A_i = B_i((\\frac{B_o}{B_o - A_o})^\\frac{w_o}{w_i} -1) $$\n",
        "\n",
        "Spotprice:\n",
        "$$SP_{i}^o = \\frac{B_{i} \\cdot w_o}{B_o \\cdot w_{i}}$$\n",
        "\n",
        "In-Given-Price: \n",
        "\n",
        "$$A_i = B_i((\\frac{sp_i^{o'}}{sp_i^o})^{w_o} - 1) $$\n",
        "\n",
        "Liquidity fingerprint: \n",
        "\n",
        "follow Uni v3 $ L =  \\frac{\\partial y}{\\partial \\sqrt{P}}$ and let price tick $t_i = log(P)$ \n",
        "\\begin{equation}\n",
        "L(t_i) = 2Lw_x^{w_y}w_y^{w_x}exp( (w_x- \\frac{1}{2})t_i)\n",
        "\\end{equation}\n",
        "\n",
        "Concentrated liquilidy \n",
        "\n",
        "\n",
        "$$ (x + x_{offset})^{w_x} (y+y_{offset})^{w_y} = L $$ \n",
        "\n",
        "$$ L =  \\frac{\\partial y}{\\partial P^{w_x}} (\\frac{w_x}{w_y})^{w_x} $$  \n",
        "\n",
        "$$ L =  \\frac{\\partial x}{\\partial P^{-w_y}} (\\frac{w_y}{w_x})^{w_y} $$ \n",
        "\n",
        "\n",
        "For a price range $[p_a, p_b]$  (price is price of x interms of y)   For price tick $t_i = log(P)$ \n",
        "\n",
        "$$ y_{offset} = L \\cdot exp(w_x t_i) (\\frac{w_x}{w_y})^{-w_x} $$ \n",
        "\n",
        "$$ x_{offset} = L \\cdot exp(-w_y t_i) (\\frac{w_y}{w_x})^{-w_y} $$ \n",
        "\n",
        "\n",
        "## special case for callateral / ayToken pool \n",
        "\n",
        "$$SpotPrice_{ay}^c = \\frac{B_{ay} \\cdot w_c}{B_c \\cdot w_{ay}}$$\n",
        "\n",
        "If $w_c < w_ay$, aritrager only has incentive to reblance (add more ayToken and take out Callateral) if the spotprice is less than the market price.  How is that guranteeded?   \n",
        "\n"
      ]
    },
    {
      "cell_type": "code",
      "metadata": {
        "scrolled": true,
        "colab": {
          "base_uri": "https://localhost:8080/",
          "height": 333
        },
        "id": "GHpWQyqaf2lp",
        "outputId": "3f27d3ba-923b-4804-b12d-8e9b76ad832f"
      },
      "source": [
        "import scipy \n",
        "import matplotlib.pyplot as plt\n",
        "import seaborn as sns\n",
        "import numpy as np \n",
        "import random\n",
        "import pandas as pd \n",
        "\n",
        "#Liquity fingerprint \n",
        "w_x=0.25\n",
        "w_y= 1-w_x\n",
        "t =  np.array(list(range(-50,50)))/5\n",
        "t\n",
        "p = np.exp(t)\n",
        "p\n",
        "L = 1000\n",
        "\n",
        "lt = L*2*w_x**w_y*w_y**w_x*np.exp((w_x - 0.5)*t)\n",
        "\n",
        "fig, ax = plt.subplots()\n",
        "sns.lineplot(t,lt, label=\"liquidity space\",)\n",
        "ax.set_xlabel('price tick')\n",
        "plt.show()\n",
        "\n",
        "#x_offset = L*np.exp(-w_y*np.log(p))*(w_y/w_x)**(-w_y)\n",
        "# fig, ax = plt.subplots()\n",
        "# sns.lineplot(t,x_offset,color=\"blue\", label=\"x-reserve\")\n",
        "# y_offset = L*np.exp(w_x*np.log(p))*(w_x/w_y)**(-w_x)\n",
        "# sns.lineplot(t,y_offset,color=\"orange\", label=\"y-reserve\",)\n",
        "# ax.set_xlabel('price tick')\n",
        "# plt.show()"
      ],
      "execution_count": 1,
      "outputs": [
        {
          "output_type": "stream",
          "text": [
            "/usr/local/lib/python3.7/dist-packages/seaborn/_decorators.py:43: FutureWarning: Pass the following variables as keyword args: x, y. From version 0.12, the only valid positional argument will be `data`, and passing other arguments without an explicit keyword will result in an error or misinterpretation.\n",
            "  FutureWarning\n"
          ],
          "name": "stderr"
        },
        {
          "output_type": "display_data",
          "data": {
            "image/png": "[encoded data removed]",
            "text/plain": [
              "<Figure size 432x288 with 1 Axes>"
            ]
          },
          "metadata": {
            "tags": [],
            "needs_background": "light"
          }
        }
      ]
    },
    {
      "cell_type": "code",
      "metadata": {
        "id": "ihxifyfOf2lq"
      },
      "source": [
        ""
      ],
      "execution_count": null,
      "outputs": []
    },
    {
      "cell_type": "code",
      "metadata": {
        "colab": {
          "base_uri": "https://localhost:8080/",
          "height": 317
        },
        "id": "0xUqTI9lf2lr",
        "outputId": "171edfab-7493-42f7-dfc4-b9ee42c524ce"
      },
      "source": [
        "x = np.array(list(range(1,1000)))\n",
        "w_x = 0.25 \n",
        "w_y = 1-w_x \n",
        "\n",
        "L = 1000\n",
        "y = (L/(x**w_x))**(1/w_y)\n",
        "\n",
        "# suppose set price range [pa, pb] = [0.5, 2], then ti = -/+ 0.69\n",
        "\n",
        "x_offset = L*np.exp(-w_y*np.log(2))*(w_y/w_x)**(-w_y)\n",
        "\n",
        "\n",
        "y_offset = L*np.exp(w_y*np.log(1/2))*(w_y/w_x)**(-w_y)\n",
        "print(x_offset)\n",
        "print(y_offset)\n",
        "\n",
        "x_tilta = x - x_offset\n",
        "y_tilta = (L/x**w_x)**(1/w_y) - y_offset \n",
        "\n",
        "df = pd.DataFrame({'x_reserve':x, 'y_reserve':y, 'x_offset': x_tilta, 'y_offset': y_tilta})\n",
        "xa = 1000/(1.5**0.75)\n",
        "ya = xa*1.5\n",
        "xb = 1000/(6**0.75)\n",
        "yb = xb*6\n",
        "\n",
        "fig, ax = plt.subplots()\n",
        "sns.lineplot(data=df, x='x_reserve', y='y_reserve', color = 'blue', label= 'inv-fun')\n",
        "sns.lineplot(data=df, x='x_offset', y='y_offset', color= 'orange', label= 'concentrated. inv-fun')\n",
        "plt.scatter(x=xb, y=yb, color='r', label = 'Pb')\n",
        "plt.scatter(x=xa, y=ya, color='g', label = 'Pa')\n",
        "\n",
        "plt.scatter(x=xa-x_offset, y=ya-y_offset, color='g', label = 'Pa')\n",
        "plt.scatter(x=xb-x_offset, y=yb-y_offset, color='r', label = 'Pa')\n",
        "\n",
        "ax.set_xlim(0,)\n",
        "ax.set_ylim(ya-y_offset,4000)\n",
        "plt.show()"
      ],
      "execution_count": 2,
      "outputs": [
        {
          "output_type": "stream",
          "text": [
            "260.84743001221455\n",
            "260.84743001221455\n"
          ],
          "name": "stdout"
        },
        {
          "output_type": "display_data",
          "data": {
            "image/png": "[encoded data removed]",
            "text/plain": [
              "<Figure size 432x288 with 1 Axes>"
            ]
          },
          "metadata": {
            "tags": [],
            "needs_background": "light"
          }
        }
      ]
    },
    {
      "cell_type": "code",
      "metadata": {
        "id": "I44edbQPf2lr"
      },
      "source": [
        ""
      ],
      "execution_count": null,
      "outputs": []
    },
    {
      "cell_type": "code",
      "metadata": {
        "id": "e8W7D_2tf2lr"
      },
      "source": [
        ""
      ],
      "execution_count": null,
      "outputs": []
    }
  ]
}