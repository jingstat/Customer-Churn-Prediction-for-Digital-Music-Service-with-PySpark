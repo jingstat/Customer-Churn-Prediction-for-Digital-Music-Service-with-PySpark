{
  "nbformat": 4,
  "nbformat_minor": 0,
  "metadata": {
    "kernelspec": {
      "display_name": "Python 3",
      "language": "python",
      "name": "python3"
    },
    "language_info": {
      "codemirror_mode": {
        "name": "ipython",
        "version": 3
      },
      "file_extension": ".py",
      "mimetype": "text/x-python",
      "name": "python",
      "nbconvert_exporter": "python",
      "pygments_lexer": "ipython3",
      "version": "3.6.5"
    },
    "colab": {
      "name": "ALEX_issue17.ipynb",
      "provenance": [],
      "collapsed_sections": [],
      "include_colab_link": true
    }
  },
  "cells": [
    {
      "cell_type": "markdown",
      "metadata": {
        "id": "view-in-github",
        "colab_type": "text"
      },
      "source": [
        "<a href=\"https://colab.research.google.com/github/jingstat/Customer-Churn-Prediction-for-Digital-Music-Service-with-PySpark/blob/main/ALEX_issue17.ipynb\" target=\"_parent\"><img src=\"https://colab.research.google.com/assets/colab-badge.svg\" alt=\"Open In Colab\"/></a>"
      ]
    },
    {
      "cell_type": "markdown",
      "metadata": {
        "id": "FjEt4aK8f2lm"
      },
      "source": [
        "# Extend the concentrated liquidity  \n",
        "From the balencor paper, we have the invariance function defined as (1), where $L$ is a constant.  \n",
        "\\begin{equation*}\n",
        " B_x^{w_x} B_y^{w_y} = L  \\tag{1} \n",
        "\\end{equation*}\n",
        "\n",
        "\n",
        "Let $A_i$ and $A_o$ as the amount of tokens i and o exchanged, when a user sends token i (in) to get tokens o (out).  The price of   \n",
        "\n",
        "Out-Given-in: \n",
        "\n",
        "$$ A_o = B_o (1- (\\frac{B_i}{B_i+A_i}))^\\frac{w_i}{w_o}$$\n",
        "\n",
        "In-Given-Out: \n",
        "\n",
        "$$A_i = B_i((\\frac{B_o}{B_o - A_o})^\\frac{w_o}{w_i} -1) $$\n",
        "\n",
        "Spotprice:\n",
        "$$SP_{i}^o = \\frac{B_{i} \\cdot w_o}{B_o \\cdot w_{i}}$$\n",
        "\n",
        "In-Given-Price: \n",
        "\n",
        "$$A_i = B_i((\\frac{sp_i^{o'}}{sp_i^o})^{w_o} - 1) $$\n",
        "\n",
        "Liquidity fingerprint: \n",
        "\n",
        "If follow the definition of Uniswap v3, where liquidity is defined as $ L =  \\frac{\\partial y}{\\partial \\sqrt{P}}$ and let price tick $t_i = log(P)$, the liquidity fingerprint is  \n",
        "\n",
        "\\begin{equation}\n",
        "L(t_i) = 2Lw_x^{w_y}w_y^{w_x}exp( (w_x- \\frac{1}{2})t_i)\n",
        "\\end{equation}\n",
        "\n",
        "Concentrated liquilidy \n",
        "There is a trading function that describes the relationship between the reserves while its liquidity is in the range: \n",
        "\n",
        "\n",
        "$$ (x + x_{offset})^{w_x} (y+y_{offset})^{w_y} = L $$ \n",
        "\n",
        "$$ L =  \\frac{\\partial y}{\\partial P^{w_x}} (\\frac{w_x}{w_y})^{w_x} $$  \n",
        "\n",
        "or equivalently by switch symbol x and y (and take price reciprocal) \n",
        "$$ L =  \\frac{\\partial x}{\\partial P^{-w_y}} (\\frac{w_y}{w_x})^{w_y} $$ \n",
        "\n",
        "\n",
        "For a price range $[p_a, p_b]$  (price is price of x interms of y) and let tick $t_i = log(P)$ \n",
        "\n",
        "$$ y_{offset} = L \\cdot exp(w_x t_i) (\\frac{w_y}{w_x})^{w_x} $$ \n",
        "\n",
        "$$ x_{offset} = L \\cdot exp(-w_y t_i) (\\frac{w_x}{w_y})^{w_y} $$ \n",
        "\n",
        "\n",
        "\n",
        "\n",
        "### Prove of Liquidity fingerprint:\n",
        "\n",
        "Start with the invariant trading function: \n",
        "\n",
        "$$ x^{w_x} \\cdot y^{w_y} = L$$ \n",
        "Solving for y: \n",
        "$$ y = (\\frac{L}{x^{w_x}})^{\\frac{1}{w_y}}$$\n",
        "Given the sport price P (price of x as of y):\n",
        "$$ P = \\frac{y\\cdot w_x}{x \\cdot w_y} $$\n",
        "We can rewrite P as \n",
        "$$ P = (\\frac{L}{x})^\\frac{1}{w_y}\\cdot \\frac{w_x}{w_y}$$\n",
        "\n",
        "To find the same price, but as a function of y rather than x, we can swithing x and y and taking the reciprocal: \n",
        "$$ P_y = (\\frac{y}{L})^\\frac{1}{w_x} \\cdot \\frac{w_x}{w_y}$$\n",
        "\n",
        "Solving Y: \n",
        "$$y = L \\cdot P^{w_x} (\\frac{w_y}{w_x})^{w_x} \\tag{2}$$ \n",
        "\n",
        "If following the definition in Uniswap v3, where liquidity is defined as $ L =  \\frac{\\partial y}{\\partial \\sqrt{P}}$ and let price tick $t_i = log(P)$, the liquidity fingerprint is  \n",
        "\n",
        "\\begin{equation}\n",
        "L(t_i) = 2Lw_x^{w_y}w_y^{w_x}exp((w_x- \\frac{1}{2})t_i)\n",
        "\\end{equation}\n",
        "\n",
        "\n",
        "In stead of define liquidy fingerprint as$\\frac{\\partial y}{\\partial \\sqrt{P}} $ a special case when $w_x = \\frac{1}{2}$, we re-define the it as \n",
        "$$ \\frac{\\partial y}{\\partial P^{w_x}} = L \\cdot (\\frac{w_y}{w_x})^{w_x} $$  It indicates that liquidity is constant for every price tick chage in unit of $w_ilog(P)$. \n",
        "\n",
        "To calculate the concentrated liquity boundary, we take the derivative w.r.t $P^{w_x}$: \n",
        "$$ \\frac{\\partial y}{\\partial P^{w_x}} = L \\cdot (\\frac{w_y}{w_x})^{w_x} $$\n",
        "\n",
        "For a price range $[p_a, p_b]$  (price is price of x interms of y), and let price tick $t_i = log(P)$, \n",
        "$$ \\Delta y =  \\Delta P^{w_x} L\\cdot \\frac{w_y}{w_x}^{w_x}$$ \n",
        " \n",
        "$$ y_{offset} = L \\cdot exp(w_x t_i) (\\frac{w_y}{w_x})^{w_x} $$ \n",
        "\n",
        "$$ x_{offset} = L \\cdot exp(-w_y t_i) (\\frac{w_x}{w_y})^{w_y} $$ \n",
        "\n"
      ]
    },
    {
      "cell_type": "code",
      "metadata": {
        "id": "9Rt6m3xN9QFz"
      },
      "source": [
        "# Illustrations "
      ],
      "execution_count": null,
      "outputs": []
    },
    {
      "cell_type": "code",
      "metadata": {
        "scrolled": true,
        "colab": {
          "base_uri": "https://localhost:8080/",
          "height": 367
        },
        "id": "GHpWQyqaf2lp",
        "outputId": "256d071f-5bc7-4b5c-f5b4-0b61dd5536ec"
      },
      "source": [
        "import scipy \n",
        "import matplotlib.pyplot as plt\n",
        "import seaborn as sns\n",
        "import numpy as np \n",
        "import random\n",
        "import pandas as pd \n",
        "\n",
        "#Liquity fingerprint \n",
        "w_x=0.25\n",
        "w_y= 1-w_x\n",
        "t =  np.array(list(range(-40,50)))/5\n",
        "p = np.exp(t)\n",
        "L = 1000\n",
        "\n",
        "lt = L*2*w_x**w_y*w_y**w_x*np.exp((w_x - 0.5)*t)  # w.r.t sqrt(P)\n",
        "#lt1 = L * (w_y/w_x)**w_x * w_x* np.exp(-w_y*t)    # w.r.t P \n",
        "lt2 = L * (w_y/w_x)**w_x   # w.r. t p^w_x\n",
        "\n",
        "fig, ax = plt.subplots()\n",
        "#sns.lineplot(t,lt1, label=\"liquidity space - w.r.t p\",)\n",
        "sns.lineplot(t,lt, label=\"liquidity space - w.r.t sqrt(p) (t = log(p) ) \",)\n",
        "sns.lineplot(t,lt2, label=\"liquidity space 2 - w.r.t p^w_x (t= w_x *log(p)\",)\n",
        "ax.set_xticks(range(-10,10))\n",
        "ax.vlines(x = [0,1], ymin = [0, 0], ymax = [lt2, lt2], linestyle='--', color = 'orange')\n",
        "ax.vlines(x = 2, ymin=0, ymax= 441, linestyle='--')\n",
        "ax.set_ylim(0,)\n",
        "ax.set_xlabel('price tick')\n",
        "plt.show()\n"
      ],
      "execution_count": 54,
      "outputs": [
        {
          "output_type": "stream",
          "text": [
            "/usr/local/lib/python3.7/dist-packages/seaborn/_decorators.py:43: FutureWarning: Pass the following variables as keyword args: x, y. From version 0.12, the only valid positional argument will be `data`, and passing other arguments without an explicit keyword will result in an error or misinterpretation.\n",
            "  FutureWarning\n",
            "/usr/local/lib/python3.7/dist-packages/seaborn/_decorators.py:43: FutureWarning: Pass the following variables as keyword args: x, y. From version 0.12, the only valid positional argument will be `data`, and passing other arguments without an explicit keyword will result in an error or misinterpretation.\n",
            "  FutureWarning\n"
          ],
          "name": "stderr"
        },
        {
          "output_type": "display_data",
          "data": {
            "image/png": "[encoded data removed]",
            "text/plain": [
              "<Figure size 432x288 with 1 Axes>"
            ]
          },
          "metadata": {
            "tags": [],
            "needs_background": "light"
          }
        }
      ]
    },
    {
      "cell_type": "code",
      "metadata": {
        "id": "eTJhgIHeitfW"
      },
      "source": [
        ""
      ],
      "execution_count": 56,
      "outputs": []
    },
    {
      "cell_type": "code",
      "metadata": {
        "colab": {
          "base_uri": "https://localhost:8080/",
          "height": 317
        },
        "id": "0xUqTI9lf2lr",
        "outputId": "ab39e6a4-5104-432e-9b5f-36fcfdbb9889"
      },
      "source": [
        "x = np.array(list(range(1,2500)))\n",
        "w_x = 0.25 \n",
        "w_y = 1-w_x \n",
        "\n",
        "L = 1000\n",
        "y = (L/(x**w_x))**(1/w_y)\n",
        "\n",
        "# suppose set price range [pa, pb] = [0.1 2], then ti = -/+ 0.69\n",
        "pa = 0.5\n",
        "pb = 2\n",
        "\n",
        "y_offset = L*np.exp(w_y*np.log(pa))*(w_y/w_x)**(w_x)\n",
        "\n",
        "x_offset = L*np.exp(-w_y*np.log(pb))*(w_x/w_y)**(w_y)\n",
        "\n",
        "print(\"the virtual reserve of x is {}\".format(x_offset))\n",
        "print(\"the virtual reserve of y is {}\".format(y_offset))\n",
        "\n",
        "x_tilta = x - x_offset\n",
        "y_tilta = (L/x**w_x)**(1/w_y) - y_offset \n",
        "\n",
        "df = pd.DataFrame({'x_reserve':x, 'y_reserve':y, 'x_offset': x_tilta, 'y_offset': y_tilta})\n",
        "ya = y_offset\n",
        "xa = (L/(ya**w_y))**(1/w_x)\n",
        "\n",
        "xb = x_offset\n",
        "yb = (L/(xb**w_x))**(1/w_y)\n",
        "\n",
        "fig, ax = plt.subplots()\n",
        "sns.lineplot(data=df, x='x_reserve', y='y_reserve', color = 'blue', label= 'virtual reserves')\n",
        "sns.lineplot(data=df, x='x_offset', y='y_offset', color= 'orange', label= 'real reserves')\n",
        "plt.scatter(x=xb, y=yb, color='r', label = 'Pb')\n",
        "plt.scatter(x=xa, y=ya, color='g', label = 'Pa')\n",
        "\n",
        "plt.scatter(x=xa-x_offset, y=ya-y_offset, color='g', label = 'Pa')\n",
        "plt.scatter(x=xb-x_offset, y=yb-y_offset, color='r', label = 'Pa')\n",
        "\n",
        "ax.set_xlim(0,)\n",
        "ax.set_ylim(0, 2500)\n",
        "plt.show()"
      ],
      "execution_count": 56,
      "outputs": [
        {
          "output_type": "stream",
          "text": [
            "the virtual reserve of x is 260.84743001221455\n",
            "the virtual reserve of y is 782.5422900366436\n"
          ],
          "name": "stdout"
        },
        {
          "output_type": "display_data",
          "data": {
            "image/png": "[encoded data removed]",
            "text/plain": [
              "<Figure size 432x288 with 1 Axes>"
            ]
          },
          "metadata": {
            "tags": [],
            "needs_background": "light"
          }
        }
      ]
    },
    {
      "cell_type": "code",
      "metadata": {
        "id": "e0mtxViKxKgr"
      },
      "source": [
        ""
      ],
      "execution_count": null,
      "outputs": []
    },
    {
      "cell_type": "markdown",
      "metadata": {
        "id": "DQs20J-I0vtr"
      },
      "source": [
        ""
      ]
    },
    {
      "cell_type": "code",
      "metadata": {
        "id": "YHzukYZN0wt8"
      },
      "source": [
        ""
      ],
      "execution_count": null,
      "outputs": []
    },
    {
      "cell_type": "code",
      "metadata": {
        "id": "I44edbQPf2lr"
      },
      "source": [
        ""
      ],
      "execution_count": null,
      "outputs": []
    },
    {
      "cell_type": "code",
      "metadata": {
        "id": "e8W7D_2tf2lr"
      },
      "source": [
        ""
      ],
      "execution_count": null,
      "outputs": []
    },
    {
      "cell_type": "markdown",
      "metadata": {
        "id": "Ks9d9iv3aNRv"
      },
      "source": [
        "# New Section"
      ]
    }
  ]
}